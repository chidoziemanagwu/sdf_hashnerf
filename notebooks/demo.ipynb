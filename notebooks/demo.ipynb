{
 "cells": [
  {
   "cell_type": "code",
   "execution_count": null,
   "metadata": {},
   "outputs": [],
   "source": [
    "{\n",
    " \"cells\": [\n",
    "  {\n",
    "   \"cell_type\": \"markdown\",\n",
    "   \"metadata\": {},\n",
    "   \"source\": [\n",
    "    \"# SDF HashNeRF Demo\\n\",\n",
    "    \"\\n\",\n",
    "    \"This notebook demonstrates the usage of the SDF implementation in HashNeRF.\"\n",
    "   ]\n",
    "  },\n",
    "  {\n",
    "   \"cell_type\": \"code\",\n",
    "   \"execution_count\": null,\n",
    "   \"metadata\": {},\n",
    "   \"source\": [\n",
    "    \"import sys\\n\",\n",
    "    \"sys.path.append('..')\\n\",\n",
    "    \"\\n\",\n",
    "    \"import torch\\n\",\n",
    "    \"from src.models import SDFNetwork\\n\",\n",
    "    \"from src.encoding import HashGridSDF\\n\",\n",
    "    \"from src.visualization import visualize_sdf_slice, visualize_gradients\"\n",
    "   ]\n",
    "  },\n",
    "  {\n",
    "   \"cell_type\": \"code\",\n",
    "   \"execution_count\": null,\n",
    "   \"metadata\": {},\n",
    "   \"source\": [\n",
    "    \"# Initialize models\\n\",\n",
    "    \"hash_encoder = HashGridSDF()\\n\",\n",
    "    \"model = SDFNetwork(hash_encoder)\\n\",\n",
    "    \"\\n\",\n",
    "    \"# Visualize SDF slice\\n\",\n",
    "    \"visualize_sdf_slice(model)\"\n",
    "   ]\n",
    "  }\n",
    " ]\n",
    "}"
   ]
  }
 ],
 "metadata": {
  "language_info": {
   "name": "python"
  }
 },
 "nbformat": 4,
 "nbformat_minor": 2
}
