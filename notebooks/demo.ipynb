{
 "cells": [
  {
   "cell_type": "code",
   "execution_count": null,
   "metadata": {},
   "outputs": [],
   "source": [
    "# Add the project directory to the Python path\n",
    "import sys\n",
    "sys.path.append('/content/sdf_hashnerf/src')\n",
    "\n",
    "# Import necessary modules\n",
    "import torch\n",
    "from src.models import SDFNetwork\n",
    "from src.encoding import HashGridSDF\n",
    "from src.visualization import visualize_sdf_slice\n",
    "\n",
    "# Initialize the hash encoder\n",
    "hash_encoder = HashGridSDF(\n",
    "    n_levels=16,\n",
    "    n_features_per_level=2,\n",
    "    log2_hashmap_size=19,\n",
    "    base_resolution=16,\n",
    "    finest_resolution=512\n",
    ")\n",
    "\n",
    "# Initialize the SDFNetwork with the hash encoder\n",
    "model = SDFNetwork(hash_encoder)\n",
    "\n",
    "# Load the trained model checkpoint\n",
    "checkpoint_path = \"/content/sdf_hashnerf/checkpoints/lego_model.pth\"\n",
    "model.load_state_dict(torch.load(checkpoint_path))\n",
    "model.eval()\n",
    "\n",
    "# Visualize the SDF slice\n",
    "visualize_sdf_slice(model)"
   ]
  }
 ],
 "metadata": {
  "language_info": {
   "name": "python"
  }
 },
 "nbformat": 4,
 "nbformat_minor": 2
}
