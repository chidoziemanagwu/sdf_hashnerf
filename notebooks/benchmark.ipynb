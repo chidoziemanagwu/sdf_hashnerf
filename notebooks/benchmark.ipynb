{
 "cells": [
  {
   "cell_type": "code",
   "execution_count": null,
   "metadata": {},
   "outputs": [],
   "source": [
    "import matplotlib.pyplot as plt\n",
    "\n",
    "# Query speed results\n",
    "models = ['SDF-HashNeRF', 'Vanilla HashNeRF']\n",
    "query_times = [sdf_time, vanilla_time]\n",
    "\n",
    "plt.bar(models, query_times, color=['blue', 'orange'])\n",
    "plt.ylabel('Query Time (seconds)')\n",
    "plt.title('Query Speed Comparison')\n",
    "plt.show()\n",
    "\n",
    "# Memory usage results\n",
    "memory_usages = [sdf_memory / 1e6, vanilla_memory / 1e6]\n",
    "\n",
    "plt.bar(models, memory_usages, color=['blue', 'orange'])\n",
    "plt.ylabel('Memory Usage (MB)')\n",
    "plt.title('Memory Usage Comparison')\n",
    "plt.show()"
   ]
  }
 ],
 "metadata": {
  "language_info": {
   "name": "python"
  }
 },
 "nbformat": 4,
 "nbformat_minor": 2
}
